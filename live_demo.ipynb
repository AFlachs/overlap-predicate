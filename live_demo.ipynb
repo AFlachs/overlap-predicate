{
 "cells": [
  {
   "cell_type": "markdown",
   "metadata": {},
   "source": [
    "# Benchmarking the selectivity estimation for the overlap predicate\n",
    "---\n",
    "The following notebook contains a demo of the benchmark procedure used to evaluate the different selectivity estimations using the overlap predicate as an example. "
   ]
  },
  {
   "cell_type": "code",
   "execution_count": 19,
   "metadata": {
    "pycharm": {
     "is_executing": true
    }
   },
   "outputs": [
    {
     "name": "stdout",
     "output_type": "stream",
     "text": [
      "[3582, 7411]\n",
      "[5202, 5893]\n",
      "[2887, 4604]\n",
      "[2474, 4160]\n"
     ]
    }
   ],
   "source": [
    "from range import Range\n",
    "from main import add_to_dataframe\n",
    "import numpy as np\n",
    "import plotly.express as px\n",
    "import pandas as pd\n",
    "\n",
    "NB_RANGES = 10000\n",
    "NB_TESTS = 100\n",
    "MAX_RANGE_VAL = 10000\n",
    "NB_BUCKETS = 100\n",
    "\n",
    "# Generate some random ranges to simulate a database range content\n",
    "rand_ranges = [Range(MAX_RANGE_VAL) for _ in range(NB_RANGES)]\n",
    "rand_ranges = np.array(rand_ranges)\n",
    "\n",
    "# Constant ranges to be compared with\n",
    "# ex : serange_range && const_range[i]\n",
    "const_ranges = [Range(MAX_RANGE_VAL) for _ in range(NB_TESTS)]\n",
    "const_ranges = np.array(const_ranges)\n",
    "const_ranges_len = [r.len() for r in const_ranges]\n",
    "\n",
    "for i in range(1, 5):\n",
    "    print(rand_ranges[-i])"
   ]
  },
  {
   "cell_type": "markdown",
   "metadata": {},
   "source": [
    "### Verification functions"
   ]
  },
  {
   "cell_type": "code",
   "execution_count": 20,
   "metadata": {
    "pycharm": {
     "name": "#%%\n"
    }
   },
   "outputs": [],
   "source": [
    "def range_overlaps(r1, r2):\n",
    "    return r1.start < r2.start < r1.end or \\\n",
    "           r1.start < r2.end < r1.end or \\\n",
    "           r2.start < r1.start < r2.end or \\\n",
    "           r2.start < r1.end < r2.end\n",
    "\n",
    "def real_overlap(rand_ranges: np.ndarray, const_ranges):\n",
    "    nb_line = np.zeros(len(const_ranges))\n",
    "    for idx, cr in enumerate(const_ranges):\n",
    "        n = 0\n",
    "        for rr in rand_ranges:\n",
    "            if range_overlaps(cr, rr):\n",
    "                n += 1\n",
    "        nb_line[idx] = n\n",
    "    return nb_line\n"
   ]
  },
  {
   "cell_type": "markdown",
   "metadata": {},
   "source": [
    "### Building histograms"
   ]
  },
  {
   "cell_type": "code",
   "execution_count": 21,
   "metadata": {
    "pycharm": {
     "name": "#%%\n"
    }
   },
   "outputs": [],
   "source": [
    "def build_belonging_hist(rand_ranges, bins):\n",
    "    histo = np.zeros(NB_BUCKETS)\n",
    "\n",
    "    n = 0\n",
    "    for r in rand_ranges:\n",
    "        # Compute the number of bins which this range overlaps\n",
    "        end_idx, start_idx = bound_idx(bins, r)\n",
    "        n += end_idx - start_idx + 1  # Nb of buckets this range overlaps\n",
    "        for i in range(start_idx, end_idx + 1):\n",
    "            if i >= len(histo):\n",
    "                break\n",
    "            histo[i] += 1\n",
    "    n /= NB_RANGES\n",
    "    return histo, n\n",
    "\n",
    "def build_local_norm(rand_ranges, bins):\n",
    "    histo = np.zeros(NB_BUCKETS)\n",
    "    for r in rand_ranges:\n",
    "        # Compute the number of bins which this range overlaps\n",
    "        end_idx, start_idx = bound_idx(bins, r)\n",
    "        n = end_idx - start_idx + 1  # Nb of buckets this range overlaps\n",
    "        for i in range(start_idx, end_idx + 1):\n",
    "            if i >= len(histo):\n",
    "                break\n",
    "            histo[i] += 1 / n\n",
    "    return histo\n",
    "\n",
    "def build_bound_hists(rand_ranges, bins):\n",
    "    hist_up = np.zeros(NB_BUCKETS)\n",
    "    hist_low = np.zeros(NB_BUCKETS)\n",
    "    for r in rand_ranges:\n",
    "        end_idx, start_idx = bound_idx(bins, r)\n",
    "        hist_up[end_idx] += 1\n",
    "        hist_low[start_idx] += 1\n",
    "    return hist_low, hist_up\n",
    "\n",
    "def build_histos(rand_ranges):\n",
    "    \"\"\"\n",
    "    Build diverse histograms for the column containing rand_ranges\n",
    "    :param rand_ranges: Column of range types\n",
    "    :return: Many histos\n",
    "    \"\"\"\n",
    "    max_val = rand_ranges.max().end\n",
    "    min_val = rand_ranges.min().start\n",
    "\n",
    "    bin_step = (max_val - min_val) / NB_BUCKETS\n",
    "    bins = np.array([min_val + i * bin_step for i in range(NB_BUCKETS + 1)])\n",
    "\n",
    "    histo_appart, mean_nb_overlap = build_belonging_hist(rand_ranges, bins)\n",
    "    histo_mean_norm = np.copy(histo_appart) / mean_nb_overlap\n",
    "    histo_local_norm = build_local_norm(rand_ranges, bins)\n",
    "    histo_low_bound, histo_up_bound = build_bound_hists(rand_ranges, bins)\n",
    "\n",
    "    return histo_local_norm, histo_mean_norm, histo_low_bound, histo_up_bound, histo_appart, bins\n",
    "\n",
    "def bound_idx(bins, r):\n",
    "    idx = 0\n",
    "    while idx < len(bins) - 1 and bins[idx + 1] < r.start:\n",
    "        # Haven't reach the first bin of this range\n",
    "        idx += 1\n",
    "    start_idx = idx\n",
    "\n",
    "    while idx +1 < len(bins) - 1 and bins[idx + 1] < r.end:\n",
    "        # Haven't reach the last bin of this range\n",
    "        idx += 1\n",
    "    end_idx = idx\n",
    "    return end_idx, start_idx\n",
    "\n",
    "histo_local_norm, histo_mean_norm, histo_low, histo_up, hist_belonging, bins = build_histos(rand_ranges)"
   ]
  },
  {
   "cell_type": "code",
   "execution_count": 22,
   "metadata": {
    "pycharm": {
     "name": "#%%\n"
    }
   },
   "outputs": [
    {
     "name": "stdout",
     "output_type": "stream",
     "text": [
      "bins       : [  0. 100. 200. 300. 400. 500.] ... [ 9500.  9600.  9700.  9800.  9900. 10000.]\n",
      "upper bnds : [ 2.  3.  2.  6.  6. 11.] ... [191. 186. 198. 205. 196. 188.]\n"
     ]
    }
   ],
   "source": [
    "print(\"bins       :\", bins[:6], \"...\", bins[-6:])\n",
    "print(\"upper bnds :\", histo_up[:6], \"...\", histo_up[-6:])"
   ]
  },
  {
   "cell_type": "code",
   "execution_count": 23,
   "metadata": {
    "pycharm": {
     "name": "#%%\n"
    }
   },
   "outputs": [],
   "source": [
    "def analyze_counting(hist_belonging, hist_low_bounds, const_ranges, bins):\n",
    "    nb_line = np.zeros(len(const_ranges))\n",
    "\n",
    "    for idx, r in enumerate(const_ranges):\n",
    "        endidx, startidx = bound_idx(bins, r)\n",
    "        nb_line[idx] += hist_belonging[startidx]  # starting bucket\n",
    "        for i in range(startidx + 1, endidx + 1): # the rest\n",
    "            if i >= len(nb_line):\n",
    "                break\n",
    "            nb_line[idx] += hist_low_bounds[i]\n",
    "    return nb_line\n",
    "\n",
    "def analyze_distri(hist, const_ranges, bins):\n",
    "    nb_line = np.zeros(len(const_ranges))\n",
    "\n",
    "    for idx, r in enumerate(const_ranges):\n",
    "        end_idx, start_idx = bound_idx(bins, r)\n",
    "        for i in range(start_idx, end_idx + 1):\n",
    "            if i >= len(hist):\n",
    "                break\n",
    "            nb_line[idx] += hist[i]\n",
    "    return nb_line\n",
    "\n",
    "real_line_nb = real_overlap(rand_ranges, const_ranges) / NB_RANGES\n",
    "\n",
    "res_mean_norm = analyze_distri(histo_mean_norm, const_ranges, bins) / NB_RANGES\n",
    "res_loc_norm = analyze_distri(histo_local_norm, const_ranges, bins) / NB_RANGES\n",
    "res_counting = analyze_counting(hist_belonging, histo_low, const_ranges, bins) / NB_RANGES"
   ]
  },
  {
   "cell_type": "markdown",
   "metadata": {},
   "source": [
    "## Results visualization"
   ]
  },
  {
   "cell_type": "code",
   "execution_count": 24,
   "metadata": {
    "pycharm": {
     "name": "#%%\n"
    }
   },
   "outputs": [],
   "source": [
    "cols = [\"Ref range idx\", \"Real fraction\", \"Selectivity\", \"Delta with real\", \"Type of approx\"]\n",
    "types_estimation = [\"Mean normalization\", \"Local normalization\", \"Counting method\", \"Real fraction\"]\n",
    "datafr = pd.DataFrame(columns=cols)\n",
    "\n",
    "datafr = add_to_dataframe(datafr, real_line_nb, res_mean_norm, types_estimation[0])\n",
    "datafr = add_to_dataframe(datafr, real_line_nb, res_loc_norm, types_estimation[1])\n",
    "datafr = add_to_dataframe(datafr, real_line_nb, res_counting, types_estimation[2])\n",
    "datafr = add_to_dataframe(datafr, real_line_nb, real_line_nb, types_estimation[3])"
   ]
  },
  {
   "cell_type": "code",
   "execution_count": 25,
   "metadata": {
    "pycharm": {
     "name": "#%%\n"
    },
    "scrolled": true
   },
   "outputs": [
    {
     "data": {
      "application/vnd.plotly.v1+json": {
       "config": {
        "plotlyServerURL": "https://plot.ly"
       },
       "data": [
        {
         "hovertemplate": "Type of approx=Mean normalization<br>Real fraction=%{x}<br>Delta with real=%{y}<extra></extra>",
         "legendgroup": "Mean normalization",
         "marker": {
          "color": "#636efa",
          "symbol": "circle"
         },
         "mode": "markers",
         "name": "Mean normalization",
         "orientation": "v",
         "showlegend": true,
         "type": "scatter",
         "x": [
          0.5012,
          0.9995,
          0.2714,
          0.8936,
          0.423,
          0.7301,
          0.6447,
          0.8658,
          0.469,
          0.8295,
          0.7425,
          0.4187,
          0.7132,
          0.5947,
          0.7134,
          0.5445,
          0.8286,
          0.5318,
          0.3885,
          0.8068,
          0.8537,
          0.9269,
          0.6592,
          0.6781,
          0.6254,
          0.2757,
          0.8169,
          0.7109,
          0.9731,
          0.4877,
          0.9942,
          0.815,
          0.9824,
          0.9153,
          0.8573,
          0.8305,
          0.6679,
          0.7999,
          0.1311,
          0.6476,
          0.231,
          0.4035,
          0.6509,
          0.5725,
          0.4563,
          0.865,
          0.532,
          0.585,
          0.1723,
          0.9692,
          0.8916,
          0.333,
          0.5398,
          0.7735,
          0.6519,
          0.4799,
          0.8497,
          0.4712,
          0.4802,
          0.3119,
          0.3503,
          0.5714,
          0.3645,
          0.8978,
          0.8754,
          0.4791,
          0.5503,
          0.9572,
          0.7442,
          0.854,
          0.5451,
          0.6792,
          0.6272,
          0.5647,
          0.2346,
          0.9895,
          0.9297,
          0.5403,
          0.536,
          0.8497,
          0.5559,
          0.6459,
          0.5229,
          0.6888,
          0.7134,
          0.9695,
          0.8254,
          0.6805,
          0.9512,
          0.6153,
          0.7268,
          0.9742,
          0.8382,
          0.9565,
          0.7721,
          0.7868,
          0.4293,
          0.9231,
          0.6148,
          0.5481
         ],
         "xaxis": "x",
         "y": [
          -0.30709635168008165,
          -5.166423601832282e-05,
          -0.23607881697365213,
          -0.147879065809435,
          -0.3123414361463318,
          -0.31421852564798514,
          -0.38539433399748235,
          -0.19265519107242923,
          -0.2941253715664036,
          -0.2422035362264403,
          -0.2521937383174829,
          -0.2805227807985633,
          -0.33781302807912245,
          -0.38327174716171686,
          -0.2844546470375924,
          -0.455561748247439,
          -0.2234859551567403,
          -0.38902753508789956,
          -0.2577409041424702,
          -0.21493176558965021,
          -0.1725267158078213,
          -0.11249393404091124,
          -0.2716676117340156,
          -0.35132403730189227,
          -0.3778494772394486,
          -0.25948752710637435,
          -0.2037193328970882,
          -0.30224884840090727,
          -0.04707582654267917,
          -0.36052965606082393,
          -0.009743433288241787,
          -0.20968348264458447,
          -0.027598320358464545,
          -0.1334802709610402,
          -0.1673118255684639,
          -0.2292388016561665,
          -0.29723738669608885,
          -0.22996335335561524,
          -0.11570915469193366,
          -0.39583570147922303,
          -0.1982610750996957,
          -0.25791346060735887,
          -0.37747407706279873,
          -0.4253993183425424,
          -0.2933448403254819,
          -0.17038430163122398,
          -0.4452537332703419,
          -0.3735717471617168,
          -0.1427507507622063,
          -0.05404185136170103,
          -0.14927414836833586,
          -0.25650353740019427,
          -0.4506035224348346,
          -0.23023690604395108,
          -0.28235538708929625,
          -0.4025232221299521,
          -0.22458519221683892,
          -0.4572352654297259,
          -0.3735732800840408,
          -0.25065940103349016,
          -0.24948629525187285,
          -0.4034769278170822,
          -0.2520103803842283,
          -0.14936769477708978,
          -0.15864730696886942,
          -0.43818881500761475,
          -0.3934483595324939,
          -0.06873301035544233,
          -0.25250577457473433,
          -0.1643815579819652,
          -0.3613371217211924,
          -0.3610804707926064,
          -0.3167773606387568,
          -0.4461772863988356,
          -0.19925827628401319,
          -0.02040200036973261,
          -0.10196889523367969,
          -0.45087757484880586,
          -0.322212502237468,
          -0.1858249108680794,
          -0.298219982863196,
          -0.39457292473011,
          -0.36654427046806365,
          -0.3471144310082249,
          -0.26651675621429216,
          -0.04862860525782986,
          -0.2284347401749478,
          -0.3498242406547198,
          -0.07946486925851048,
          -0.42187712882240225,
          -0.2753860669567795,
          -0.04169377176946354,
          -0.2067762661134378,
          -0.06296532878308136,
          -0.27998909201348643,
          -0.24846960594154144,
          -0.3335393049030626,
          -0.1187265937374371,
          -0.4216969767039236,
          -0.3795841822017859
         ],
         "yaxis": "y"
        },
        {
         "hovertemplate": "Type of approx=Local normalization<br>Real fraction=%{x}<br>Delta with real=%{y}<extra></extra>",
         "legendgroup": "Local normalization",
         "marker": {
          "color": "#EF553B",
          "symbol": "circle"
         },
         "mode": "markers",
         "name": "Local normalization",
         "orientation": "v",
         "showlegend": true,
         "type": "scatter",
         "x": [
          0.5012,
          0.9995,
          0.2714,
          0.8936,
          0.423,
          0.7301,
          0.6447,
          0.8658,
          0.469,
          0.8295,
          0.7425,
          0.4187,
          0.7132,
          0.5947,
          0.7134,
          0.5445,
          0.8286,
          0.5318,
          0.3885,
          0.8068,
          0.8537,
          0.9269,
          0.6592,
          0.6781,
          0.6254,
          0.2757,
          0.8169,
          0.7109,
          0.9731,
          0.4877,
          0.9942,
          0.815,
          0.9824,
          0.9153,
          0.8573,
          0.8305,
          0.6679,
          0.7999,
          0.1311,
          0.6476,
          0.231,
          0.4035,
          0.6509,
          0.5725,
          0.4563,
          0.865,
          0.532,
          0.585,
          0.1723,
          0.9692,
          0.8916,
          0.333,
          0.5398,
          0.7735,
          0.6519,
          0.4799,
          0.8497,
          0.4712,
          0.4802,
          0.3119,
          0.3503,
          0.5714,
          0.3645,
          0.8978,
          0.8754,
          0.4791,
          0.5503,
          0.9572,
          0.7442,
          0.854,
          0.5451,
          0.6792,
          0.6272,
          0.5647,
          0.2346,
          0.9895,
          0.9297,
          0.5403,
          0.536,
          0.8497,
          0.5559,
          0.6459,
          0.5229,
          0.6888,
          0.7134,
          0.9695,
          0.8254,
          0.6805,
          0.9512,
          0.6153,
          0.7268,
          0.9742,
          0.8382,
          0.9565,
          0.7721,
          0.7868,
          0.4293,
          0.9231,
          0.6148,
          0.5481
         ],
         "xaxis": "x",
         "y": [
          -0.30376364926858934,
          -0.000328210148604402,
          -0.23232766825336748,
          -0.1771656663831539,
          -0.3091171050115694,
          -0.33353952211382837,
          -0.4017273973902808,
          -0.22161425897207543,
          -0.2889963702701128,
          -0.27240822419165855,
          -0.26435591542884845,
          -0.2707374166383192,
          -0.36024737286945424,
          -0.3897474588399132,
          -0.29561562630641275,
          -0.4622461534340833,
          -0.24716096230297702,
          -0.3929061202662527,
          -0.24386798466438744,
          -0.22436085563988017,
          -0.19085145577443086,
          -0.14290468105969778,
          -0.2713093909767745,
          -0.368387222143486,
          -0.3912483384448576,
          -0.25821613994061887,
          -0.22231074092028846,
          -0.32201207650727104,
          -0.06756396286677946,
          -0.360097811033352,
          -0.01695905039022705,
          -0.2329223285083344,
          -0.04301462370657505,
          -0.16403080492680855,
          -0.17748811017869137,
          -0.25668898071484925,
          -0.2958112537664319,
          -0.2526408700167708,
          -0.11000055314372192,
          -0.4133114419608701,
          -0.1918040482412694,
          -0.2429945462483982,
          -0.3930315054710596,
          -0.43589409519684497,
          -0.2854443194732441,
          -0.19671899718355257,
          -0.4513948124080974,
          -0.38004745883991314,
          -0.1336479454391987,
          -0.07669809593235566,
          -0.16262526818420742,
          -0.24838678610127965,
          -0.4571262309443999,
          -0.23752288096893193,
          -0.28172550607774527,
          -0.4044143185268318,
          -0.2562665631517157,
          -0.45779794658067224,
          -0.37334609495932125,
          -0.24544261206768692,
          -0.2367715977313576,
          -0.41321986120292453,
          -0.23739738444694317,
          -0.1661448553874867,
          -0.17027093795595893,
          -0.4398186367490909,
          -0.39787888071885813,
          -0.09498734981933477,
          -0.25976110816516784,
          -0.17853517692141607,
          -0.3673043677334343,
          -0.37996593712277477,
          -0.32032524574605864,
          -0.4537903805603541,
          -0.19292202619501755,
          -0.03204082969973232,
          -0.12687359606253135,
          -0.45725052358846674,
          -0.3197236709633742,
          -0.200154474448051,
          -0.2913126150104574,
          -0.4122207732228861,
          -0.37151987610470855,
          -0.36539212743984256,
          -0.27057990450410446,
          -0.06319375181383935,
          -0.2590912915585606,
          -0.3684915733484568,
          -0.10675266791271154,
          -0.4355529089704411,
          -0.29045048945641655,
          -0.06029214041724329,
          -0.22493358907277206,
          -0.07881092924585609,
          -0.3086112139244422,
          -0.26150951900110064,
          -0.33437260864499374,
          -0.149675312056593,
          -0.4354943852742885,
          -0.38371819882428204
         ],
         "yaxis": "y"
        },
        {
         "hovertemplate": "Type of approx=Counting method<br>Real fraction=%{x}<br>Delta with real=%{y}<extra></extra>",
         "legendgroup": "Counting method",
         "marker": {
          "color": "#00cc96",
          "symbol": "circle"
         },
         "mode": "markers",
         "name": "Counting method",
         "orientation": "v",
         "showlegend": true,
         "type": "scatter",
         "x": [
          0.5012,
          0.9995,
          0.2714,
          0.8936,
          0.423,
          0.7301,
          0.6447,
          0.8658,
          0.469,
          0.8295,
          0.7425,
          0.4187,
          0.7132,
          0.5947,
          0.7134,
          0.5445,
          0.8286,
          0.5318,
          0.3885,
          0.8068,
          0.8537,
          0.9269,
          0.6592,
          0.6781,
          0.6254,
          0.2757,
          0.8169,
          0.7109,
          0.9731,
          0.4877,
          0.9942,
          0.815,
          0.9824,
          0.9153,
          0.8573,
          0.8305,
          0.6679,
          0.7999,
          0.1311,
          0.6476,
          0.231,
          0.4035,
          0.6509,
          0.5725,
          0.4563,
          0.865,
          0.532,
          0.585,
          0.1723,
          0.9692,
          0.8916,
          0.333,
          0.5398,
          0.7735,
          0.6519,
          0.4799,
          0.8497,
          0.4712,
          0.4802,
          0.3119,
          0.3503,
          0.5714,
          0.3645,
          0.8978,
          0.8754,
          0.4791,
          0.5503,
          0.9572,
          0.7442,
          0.854,
          0.5451,
          0.6792,
          0.6272,
          0.5647,
          0.2346,
          0.9895,
          0.9297,
          0.5403,
          0.536,
          0.8497,
          0.5559,
          0.6459,
          0.5229,
          0.6888,
          0.7134,
          0.9695,
          0.8254,
          0.6805,
          0.9512,
          0.6153,
          0.7268,
          0.9742,
          0.8382,
          0.9565,
          0.7721,
          0.7868,
          0.4293,
          0.9231,
          0.6148,
          0.5481
         ],
         "xaxis": "x",
         "y": [
          0.0020000000000000018,
          0.0004999999999999449,
          0.007400000000000018,
          0.0037000000000000366,
          0.01369999999999999,
          0.008700000000000041,
          0.009599999999999942,
          0.006099999999999994,
          0.009200000000000041,
          0.005599999999999938,
          0.008599999999999941,
          0.009799999999999975,
          0.007900000000000018,
          0.0049000000000000155,
          0.01079999999999992,
          0.009199999999999986,
          0.0017000000000000348,
          0.011699999999999933,
          0.013399999999999967,
          0.008099999999999996,
          0.0023999999999999577,
          0.0037000000000000366,
          0.011299999999999977,
          0.010499999999999954,
          0.0047000000000000375,
          0.010099999999999998,
          0.0037000000000000366,
          0.00880000000000003,
          0.0028000000000000247,
          0.004599999999999993,
          0.0011999999999999789,
          0.00550000000000006,
          0.0028999999999999027,
          0.0010000000000000009,
          0.006900000000000017,
          0.007499999999999951,
          0.0017999999999999128,
          0.0029999999999998916,
          0.0039000000000000146,
          0.005900000000000016,
          0.001799999999999996,
          0.011099999999999999,
          0.007499999999999951,
          0.014499999999999957,
          0.012200000000000044,
          0.0042999999999999705,
          0.009399999999999964,
          0.014600000000000057,
          0.016399999999999998,
          0.0024000000000000687,
          0.0027000000000000357,
          0.0020000000000000018,
          0.01650000000000007,
          0.0026000000000000467,
          0.006000000000000005,
          0.009199999999999986,
          0.0028000000000000247,
          0.004699999999999982,
          0.00269999999999998,
          0.01469999999999999,
          0.0024000000000000132,
          0.014000000000000012,
          0.007599999999999996,
          0.0012999999999999678,
          0.00550000000000006,
          0.006799999999999973,
          0.005700000000000038,
          0.0034999999999999476,
          0.0014000000000000679,
          0.005400000000000071,
          0.0040999999999999925,
          0.009000000000000008,
          0.011600000000000055,
          0.005700000000000038,
          0.013600000000000001,
          0.0008999999999999009,
          0.005600000000000049,
          0.018399999999999972,
          0.0050000000000000044,
          0.0042999999999999705,
          0.011800000000000033,
          0.0040000000000000036,
          0.0005999999999999339,
          0.009700000000000042,
          0.0006999999999999229,
          0.0009000000000000119,
          0.0026999999999999247,
          0.0020000000000000018,
          0.0018999999999999018,
          0.0039000000000000146,
          0.005499999999999949,
          0.0010999999999999899,
          0.0009000000000000119,
          0.0037000000000000366,
          0.0041999999999999815,
          0.0014999999999999458,
          0.010199999999999987,
          0.0042999999999999705,
          0.006399999999999961,
          0.015000000000000013
         ],
         "yaxis": "y"
        },
        {
         "hovertemplate": "Type of approx=Real fraction<br>Real fraction=%{x}<br>Delta with real=%{y}<extra></extra>",
         "legendgroup": "Real fraction",
         "marker": {
          "color": "#ab63fa",
          "symbol": "circle"
         },
         "mode": "markers",
         "name": "Real fraction",
         "orientation": "v",
         "showlegend": true,
         "type": "scatter",
         "x": [
          0.5012,
          0.9995,
          0.2714,
          0.8936,
          0.423,
          0.7301,
          0.6447,
          0.8658,
          0.469,
          0.8295,
          0.7425,
          0.4187,
          0.7132,
          0.5947,
          0.7134,
          0.5445,
          0.8286,
          0.5318,
          0.3885,
          0.8068,
          0.8537,
          0.9269,
          0.6592,
          0.6781,
          0.6254,
          0.2757,
          0.8169,
          0.7109,
          0.9731,
          0.4877,
          0.9942,
          0.815,
          0.9824,
          0.9153,
          0.8573,
          0.8305,
          0.6679,
          0.7999,
          0.1311,
          0.6476,
          0.231,
          0.4035,
          0.6509,
          0.5725,
          0.4563,
          0.865,
          0.532,
          0.585,
          0.1723,
          0.9692,
          0.8916,
          0.333,
          0.5398,
          0.7735,
          0.6519,
          0.4799,
          0.8497,
          0.4712,
          0.4802,
          0.3119,
          0.3503,
          0.5714,
          0.3645,
          0.8978,
          0.8754,
          0.4791,
          0.5503,
          0.9572,
          0.7442,
          0.854,
          0.5451,
          0.6792,
          0.6272,
          0.5647,
          0.2346,
          0.9895,
          0.9297,
          0.5403,
          0.536,
          0.8497,
          0.5559,
          0.6459,
          0.5229,
          0.6888,
          0.7134,
          0.9695,
          0.8254,
          0.6805,
          0.9512,
          0.6153,
          0.7268,
          0.9742,
          0.8382,
          0.9565,
          0.7721,
          0.7868,
          0.4293,
          0.9231,
          0.6148,
          0.5481
         ],
         "xaxis": "x",
         "y": [
          0,
          0,
          0,
          0,
          0,
          0,
          0,
          0,
          0,
          0,
          0,
          0,
          0,
          0,
          0,
          0,
          0,
          0,
          0,
          0,
          0,
          0,
          0,
          0,
          0,
          0,
          0,
          0,
          0,
          0,
          0,
          0,
          0,
          0,
          0,
          0,
          0,
          0,
          0,
          0,
          0,
          0,
          0,
          0,
          0,
          0,
          0,
          0,
          0,
          0,
          0,
          0,
          0,
          0,
          0,
          0,
          0,
          0,
          0,
          0,
          0,
          0,
          0,
          0,
          0,
          0,
          0,
          0,
          0,
          0,
          0,
          0,
          0,
          0,
          0,
          0,
          0,
          0,
          0,
          0,
          0,
          0,
          0,
          0,
          0,
          0,
          0,
          0,
          0,
          0,
          0,
          0,
          0,
          0,
          0,
          0,
          0,
          0,
          0,
          0
         ],
         "yaxis": "y"
        }
       ],
       "layout": {
        "legend": {
         "title": {
          "text": "Type of approx"
         },
         "tracegroupgap": 0
        },
        "template": {
         "data": {
          "bar": [
           {
            "error_x": {
             "color": "#2a3f5f"
            },
            "error_y": {
             "color": "#2a3f5f"
            },
            "marker": {
             "line": {
              "color": "#E5ECF6",
              "width": 0.5
             }
            },
            "type": "bar"
           }
          ],
          "barpolar": [
           {
            "marker": {
             "line": {
              "color": "#E5ECF6",
              "width": 0.5
             }
            },
            "type": "barpolar"
           }
          ],
          "carpet": [
           {
            "aaxis": {
             "endlinecolor": "#2a3f5f",
             "gridcolor": "white",
             "linecolor": "white",
             "minorgridcolor": "white",
             "startlinecolor": "#2a3f5f"
            },
            "baxis": {
             "endlinecolor": "#2a3f5f",
             "gridcolor": "white",
             "linecolor": "white",
             "minorgridcolor": "white",
             "startlinecolor": "#2a3f5f"
            },
            "type": "carpet"
           }
          ],
          "choropleth": [
           {
            "colorbar": {
             "outlinewidth": 0,
             "ticks": ""
            },
            "type": "choropleth"
           }
          ],
          "contour": [
           {
            "colorbar": {
             "outlinewidth": 0,
             "ticks": ""
            },
            "colorscale": [
             [
              0,
              "#0d0887"
             ],
             [
              0.1111111111111111,
              "#46039f"
             ],
             [
              0.2222222222222222,
              "#7201a8"
             ],
             [
              0.3333333333333333,
              "#9c179e"
             ],
             [
              0.4444444444444444,
              "#bd3786"
             ],
             [
              0.5555555555555556,
              "#d8576b"
             ],
             [
              0.6666666666666666,
              "#ed7953"
             ],
             [
              0.7777777777777778,
              "#fb9f3a"
             ],
             [
              0.8888888888888888,
              "#fdca26"
             ],
             [
              1,
              "#f0f921"
             ]
            ],
            "type": "contour"
           }
          ],
          "contourcarpet": [
           {
            "colorbar": {
             "outlinewidth": 0,
             "ticks": ""
            },
            "type": "contourcarpet"
           }
          ],
          "heatmap": [
           {
            "colorbar": {
             "outlinewidth": 0,
             "ticks": ""
            },
            "colorscale": [
             [
              0,
              "#0d0887"
             ],
             [
              0.1111111111111111,
              "#46039f"
             ],
             [
              0.2222222222222222,
              "#7201a8"
             ],
             [
              0.3333333333333333,
              "#9c179e"
             ],
             [
              0.4444444444444444,
              "#bd3786"
             ],
             [
              0.5555555555555556,
              "#d8576b"
             ],
             [
              0.6666666666666666,
              "#ed7953"
             ],
             [
              0.7777777777777778,
              "#fb9f3a"
             ],
             [
              0.8888888888888888,
              "#fdca26"
             ],
             [
              1,
              "#f0f921"
             ]
            ],
            "type": "heatmap"
           }
          ],
          "heatmapgl": [
           {
            "colorbar": {
             "outlinewidth": 0,
             "ticks": ""
            },
            "colorscale": [
             [
              0,
              "#0d0887"
             ],
             [
              0.1111111111111111,
              "#46039f"
             ],
             [
              0.2222222222222222,
              "#7201a8"
             ],
             [
              0.3333333333333333,
              "#9c179e"
             ],
             [
              0.4444444444444444,
              "#bd3786"
             ],
             [
              0.5555555555555556,
              "#d8576b"
             ],
             [
              0.6666666666666666,
              "#ed7953"
             ],
             [
              0.7777777777777778,
              "#fb9f3a"
             ],
             [
              0.8888888888888888,
              "#fdca26"
             ],
             [
              1,
              "#f0f921"
             ]
            ],
            "type": "heatmapgl"
           }
          ],
          "histogram": [
           {
            "marker": {
             "colorbar": {
              "outlinewidth": 0,
              "ticks": ""
             }
            },
            "type": "histogram"
           }
          ],
          "histogram2d": [
           {
            "colorbar": {
             "outlinewidth": 0,
             "ticks": ""
            },
            "colorscale": [
             [
              0,
              "#0d0887"
             ],
             [
              0.1111111111111111,
              "#46039f"
             ],
             [
              0.2222222222222222,
              "#7201a8"
             ],
             [
              0.3333333333333333,
              "#9c179e"
             ],
             [
              0.4444444444444444,
              "#bd3786"
             ],
             [
              0.5555555555555556,
              "#d8576b"
             ],
             [
              0.6666666666666666,
              "#ed7953"
             ],
             [
              0.7777777777777778,
              "#fb9f3a"
             ],
             [
              0.8888888888888888,
              "#fdca26"
             ],
             [
              1,
              "#f0f921"
             ]
            ],
            "type": "histogram2d"
           }
          ],
          "histogram2dcontour": [
           {
            "colorbar": {
             "outlinewidth": 0,
             "ticks": ""
            },
            "colorscale": [
             [
              0,
              "#0d0887"
             ],
             [
              0.1111111111111111,
              "#46039f"
             ],
             [
              0.2222222222222222,
              "#7201a8"
             ],
             [
              0.3333333333333333,
              "#9c179e"
             ],
             [
              0.4444444444444444,
              "#bd3786"
             ],
             [
              0.5555555555555556,
              "#d8576b"
             ],
             [
              0.6666666666666666,
              "#ed7953"
             ],
             [
              0.7777777777777778,
              "#fb9f3a"
             ],
             [
              0.8888888888888888,
              "#fdca26"
             ],
             [
              1,
              "#f0f921"
             ]
            ],
            "type": "histogram2dcontour"
           }
          ],
          "mesh3d": [
           {
            "colorbar": {
             "outlinewidth": 0,
             "ticks": ""
            },
            "type": "mesh3d"
           }
          ],
          "parcoords": [
           {
            "line": {
             "colorbar": {
              "outlinewidth": 0,
              "ticks": ""
             }
            },
            "type": "parcoords"
           }
          ],
          "pie": [
           {
            "automargin": true,
            "type": "pie"
           }
          ],
          "scatter": [
           {
            "marker": {
             "colorbar": {
              "outlinewidth": 0,
              "ticks": ""
             }
            },
            "type": "scatter"
           }
          ],
          "scatter3d": [
           {
            "line": {
             "colorbar": {
              "outlinewidth": 0,
              "ticks": ""
             }
            },
            "marker": {
             "colorbar": {
              "outlinewidth": 0,
              "ticks": ""
             }
            },
            "type": "scatter3d"
           }
          ],
          "scattercarpet": [
           {
            "marker": {
             "colorbar": {
              "outlinewidth": 0,
              "ticks": ""
             }
            },
            "type": "scattercarpet"
           }
          ],
          "scattergeo": [
           {
            "marker": {
             "colorbar": {
              "outlinewidth": 0,
              "ticks": ""
             }
            },
            "type": "scattergeo"
           }
          ],
          "scattergl": [
           {
            "marker": {
             "colorbar": {
              "outlinewidth": 0,
              "ticks": ""
             }
            },
            "type": "scattergl"
           }
          ],
          "scattermapbox": [
           {
            "marker": {
             "colorbar": {
              "outlinewidth": 0,
              "ticks": ""
             }
            },
            "type": "scattermapbox"
           }
          ],
          "scatterpolar": [
           {
            "marker": {
             "colorbar": {
              "outlinewidth": 0,
              "ticks": ""
             }
            },
            "type": "scatterpolar"
           }
          ],
          "scatterpolargl": [
           {
            "marker": {
             "colorbar": {
              "outlinewidth": 0,
              "ticks": ""
             }
            },
            "type": "scatterpolargl"
           }
          ],
          "scatterternary": [
           {
            "marker": {
             "colorbar": {
              "outlinewidth": 0,
              "ticks": ""
             }
            },
            "type": "scatterternary"
           }
          ],
          "surface": [
           {
            "colorbar": {
             "outlinewidth": 0,
             "ticks": ""
            },
            "colorscale": [
             [
              0,
              "#0d0887"
             ],
             [
              0.1111111111111111,
              "#46039f"
             ],
             [
              0.2222222222222222,
              "#7201a8"
             ],
             [
              0.3333333333333333,
              "#9c179e"
             ],
             [
              0.4444444444444444,
              "#bd3786"
             ],
             [
              0.5555555555555556,
              "#d8576b"
             ],
             [
              0.6666666666666666,
              "#ed7953"
             ],
             [
              0.7777777777777778,
              "#fb9f3a"
             ],
             [
              0.8888888888888888,
              "#fdca26"
             ],
             [
              1,
              "#f0f921"
             ]
            ],
            "type": "surface"
           }
          ],
          "table": [
           {
            "cells": {
             "fill": {
              "color": "#EBF0F8"
             },
             "line": {
              "color": "white"
             }
            },
            "header": {
             "fill": {
              "color": "#C8D4E3"
             },
             "line": {
              "color": "white"
             }
            },
            "type": "table"
           }
          ]
         },
         "layout": {
          "annotationdefaults": {
           "arrowcolor": "#2a3f5f",
           "arrowhead": 0,
           "arrowwidth": 1
          },
          "autotypenumbers": "strict",
          "coloraxis": {
           "colorbar": {
            "outlinewidth": 0,
            "ticks": ""
           }
          },
          "colorscale": {
           "diverging": [
            [
             0,
             "#8e0152"
            ],
            [
             0.1,
             "#c51b7d"
            ],
            [
             0.2,
             "#de77ae"
            ],
            [
             0.3,
             "#f1b6da"
            ],
            [
             0.4,
             "#fde0ef"
            ],
            [
             0.5,
             "#f7f7f7"
            ],
            [
             0.6,
             "#e6f5d0"
            ],
            [
             0.7,
             "#b8e186"
            ],
            [
             0.8,
             "#7fbc41"
            ],
            [
             0.9,
             "#4d9221"
            ],
            [
             1,
             "#276419"
            ]
           ],
           "sequential": [
            [
             0,
             "#0d0887"
            ],
            [
             0.1111111111111111,
             "#46039f"
            ],
            [
             0.2222222222222222,
             "#7201a8"
            ],
            [
             0.3333333333333333,
             "#9c179e"
            ],
            [
             0.4444444444444444,
             "#bd3786"
            ],
            [
             0.5555555555555556,
             "#d8576b"
            ],
            [
             0.6666666666666666,
             "#ed7953"
            ],
            [
             0.7777777777777778,
             "#fb9f3a"
            ],
            [
             0.8888888888888888,
             "#fdca26"
            ],
            [
             1,
             "#f0f921"
            ]
           ],
           "sequentialminus": [
            [
             0,
             "#0d0887"
            ],
            [
             0.1111111111111111,
             "#46039f"
            ],
            [
             0.2222222222222222,
             "#7201a8"
            ],
            [
             0.3333333333333333,
             "#9c179e"
            ],
            [
             0.4444444444444444,
             "#bd3786"
            ],
            [
             0.5555555555555556,
             "#d8576b"
            ],
            [
             0.6666666666666666,
             "#ed7953"
            ],
            [
             0.7777777777777778,
             "#fb9f3a"
            ],
            [
             0.8888888888888888,
             "#fdca26"
            ],
            [
             1,
             "#f0f921"
            ]
           ]
          },
          "colorway": [
           "#636efa",
           "#EF553B",
           "#00cc96",
           "#ab63fa",
           "#FFA15A",
           "#19d3f3",
           "#FF6692",
           "#B6E880",
           "#FF97FF",
           "#FECB52"
          ],
          "font": {
           "color": "#2a3f5f"
          },
          "geo": {
           "bgcolor": "white",
           "lakecolor": "white",
           "landcolor": "#E5ECF6",
           "showlakes": true,
           "showland": true,
           "subunitcolor": "white"
          },
          "hoverlabel": {
           "align": "left"
          },
          "hovermode": "closest",
          "mapbox": {
           "style": "light"
          },
          "paper_bgcolor": "white",
          "plot_bgcolor": "#E5ECF6",
          "polar": {
           "angularaxis": {
            "gridcolor": "white",
            "linecolor": "white",
            "ticks": ""
           },
           "bgcolor": "#E5ECF6",
           "radialaxis": {
            "gridcolor": "white",
            "linecolor": "white",
            "ticks": ""
           }
          },
          "scene": {
           "xaxis": {
            "backgroundcolor": "#E5ECF6",
            "gridcolor": "white",
            "gridwidth": 2,
            "linecolor": "white",
            "showbackground": true,
            "ticks": "",
            "zerolinecolor": "white"
           },
           "yaxis": {
            "backgroundcolor": "#E5ECF6",
            "gridcolor": "white",
            "gridwidth": 2,
            "linecolor": "white",
            "showbackground": true,
            "ticks": "",
            "zerolinecolor": "white"
           },
           "zaxis": {
            "backgroundcolor": "#E5ECF6",
            "gridcolor": "white",
            "gridwidth": 2,
            "linecolor": "white",
            "showbackground": true,
            "ticks": "",
            "zerolinecolor": "white"
           }
          },
          "shapedefaults": {
           "line": {
            "color": "#2a3f5f"
           }
          },
          "ternary": {
           "aaxis": {
            "gridcolor": "white",
            "linecolor": "white",
            "ticks": ""
           },
           "baxis": {
            "gridcolor": "white",
            "linecolor": "white",
            "ticks": ""
           },
           "bgcolor": "#E5ECF6",
           "caxis": {
            "gridcolor": "white",
            "linecolor": "white",
            "ticks": ""
           }
          },
          "title": {
           "x": 0.05
          },
          "xaxis": {
           "automargin": true,
           "gridcolor": "white",
           "linecolor": "white",
           "ticks": "",
           "title": {
            "standoff": 15
           },
           "zerolinecolor": "white",
           "zerolinewidth": 2
          },
          "yaxis": {
           "automargin": true,
           "gridcolor": "white",
           "linecolor": "white",
           "ticks": "",
           "title": {
            "standoff": 15
           },
           "zerolinecolor": "white",
           "zerolinewidth": 2
          }
         }
        },
        "title": {
         "text": "Difference between the estimated and the real selectivity as function of the real fraction"
        },
        "xaxis": {
         "anchor": "y",
         "domain": [
          0,
          1
         ],
         "title": {
          "text": "Real fraction"
         }
        },
        "yaxis": {
         "anchor": "x",
         "domain": [
          0,
          1
         ],
         "title": {
          "text": "Delta with real"
         }
        }
       }
      },
      "text/html": [
       "<div>                            <div id=\"f63e65f6-ce34-4136-ba5a-d27a96919f56\" class=\"plotly-graph-div\" style=\"height:525px; width:100%;\"></div>            <script type=\"text/javascript\">                require([\"plotly\"], function(Plotly) {                    window.PLOTLYENV=window.PLOTLYENV || {};                                    if (document.getElementById(\"f63e65f6-ce34-4136-ba5a-d27a96919f56\")) {                    Plotly.newPlot(                        \"f63e65f6-ce34-4136-ba5a-d27a96919f56\",                        [{\"hovertemplate\": \"Type of approx=Mean normalization<br>Real fraction=%{x}<br>Delta with real=%{y}<extra></extra>\", \"legendgroup\": \"Mean normalization\", \"marker\": {\"color\": \"#636efa\", \"symbol\": \"circle\"}, \"mode\": \"markers\", \"name\": \"Mean normalization\", \"orientation\": \"v\", \"showlegend\": true, \"type\": \"scatter\", \"x\": [0.5012, 0.9995, 0.2714, 0.8936, 0.423, 0.7301, 0.6447, 0.8658, 0.469, 0.8295, 0.7425, 0.4187, 0.7132, 0.5947, 0.7134, 0.5445, 0.8286, 0.5318, 0.3885, 0.8068, 0.8537, 0.9269, 0.6592, 0.6781, 0.6254, 0.2757, 0.8169, 0.7109, 0.9731, 0.4877, 0.9942, 0.815, 0.9824, 0.9153, 0.8573, 0.8305, 0.6679, 0.7999, 0.1311, 0.6476, 0.231, 0.4035, 0.6509, 0.5725, 0.4563, 0.865, 0.532, 0.585, 0.1723, 0.9692, 0.8916, 0.333, 0.5398, 0.7735, 0.6519, 0.4799, 0.8497, 0.4712, 0.4802, 0.3119, 0.3503, 0.5714, 0.3645, 0.8978, 0.8754, 0.4791, 0.5503, 0.9572, 0.7442, 0.854, 0.5451, 0.6792, 0.6272, 0.5647, 0.2346, 0.9895, 0.9297, 0.5403, 0.536, 0.8497, 0.5559, 0.6459, 0.5229, 0.6888, 0.7134, 0.9695, 0.8254, 0.6805, 0.9512, 0.6153, 0.7268, 0.9742, 0.8382, 0.9565, 0.7721, 0.7868, 0.4293, 0.9231, 0.6148, 0.5481], \"xaxis\": \"x\", \"y\": [-0.30709635168008165, -5.166423601832282e-05, -0.23607881697365213, -0.147879065809435, -0.3123414361463318, -0.31421852564798514, -0.38539433399748235, -0.19265519107242923, -0.2941253715664036, -0.2422035362264403, -0.2521937383174829, -0.2805227807985633, -0.33781302807912245, -0.38327174716171686, -0.2844546470375924, -0.455561748247439, -0.2234859551567403, -0.38902753508789956, -0.2577409041424702, -0.21493176558965021, -0.1725267158078213, -0.11249393404091124, -0.2716676117340156, -0.35132403730189227, -0.3778494772394486, -0.25948752710637435, -0.2037193328970882, -0.30224884840090727, -0.04707582654267917, -0.36052965606082393, -0.009743433288241787, -0.20968348264458447, -0.027598320358464545, -0.1334802709610402, -0.1673118255684639, -0.2292388016561665, -0.29723738669608885, -0.22996335335561524, -0.11570915469193366, -0.39583570147922303, -0.1982610750996957, -0.25791346060735887, -0.37747407706279873, -0.4253993183425424, -0.2933448403254819, -0.17038430163122398, -0.4452537332703419, -0.3735717471617168, -0.1427507507622063, -0.05404185136170103, -0.14927414836833586, -0.25650353740019427, -0.4506035224348346, -0.23023690604395108, -0.28235538708929625, -0.4025232221299521, -0.22458519221683892, -0.4572352654297259, -0.3735732800840408, -0.25065940103349016, -0.24948629525187285, -0.4034769278170822, -0.2520103803842283, -0.14936769477708978, -0.15864730696886942, -0.43818881500761475, -0.3934483595324939, -0.06873301035544233, -0.25250577457473433, -0.1643815579819652, -0.3613371217211924, -0.3610804707926064, -0.3167773606387568, -0.4461772863988356, -0.19925827628401319, -0.02040200036973261, -0.10196889523367969, -0.45087757484880586, -0.322212502237468, -0.1858249108680794, -0.298219982863196, -0.39457292473011, -0.36654427046806365, -0.3471144310082249, -0.26651675621429216, -0.04862860525782986, -0.2284347401749478, -0.3498242406547198, -0.07946486925851048, -0.42187712882240225, -0.2753860669567795, -0.04169377176946354, -0.2067762661134378, -0.06296532878308136, -0.27998909201348643, -0.24846960594154144, -0.3335393049030626, -0.1187265937374371, -0.4216969767039236, -0.3795841822017859], \"yaxis\": \"y\"}, {\"hovertemplate\": \"Type of approx=Local normalization<br>Real fraction=%{x}<br>Delta with real=%{y}<extra></extra>\", \"legendgroup\": \"Local normalization\", \"marker\": {\"color\": \"#EF553B\", \"symbol\": \"circle\"}, \"mode\": \"markers\", \"name\": \"Local normalization\", \"orientation\": \"v\", \"showlegend\": true, \"type\": \"scatter\", \"x\": [0.5012, 0.9995, 0.2714, 0.8936, 0.423, 0.7301, 0.6447, 0.8658, 0.469, 0.8295, 0.7425, 0.4187, 0.7132, 0.5947, 0.7134, 0.5445, 0.8286, 0.5318, 0.3885, 0.8068, 0.8537, 0.9269, 0.6592, 0.6781, 0.6254, 0.2757, 0.8169, 0.7109, 0.9731, 0.4877, 0.9942, 0.815, 0.9824, 0.9153, 0.8573, 0.8305, 0.6679, 0.7999, 0.1311, 0.6476, 0.231, 0.4035, 0.6509, 0.5725, 0.4563, 0.865, 0.532, 0.585, 0.1723, 0.9692, 0.8916, 0.333, 0.5398, 0.7735, 0.6519, 0.4799, 0.8497, 0.4712, 0.4802, 0.3119, 0.3503, 0.5714, 0.3645, 0.8978, 0.8754, 0.4791, 0.5503, 0.9572, 0.7442, 0.854, 0.5451, 0.6792, 0.6272, 0.5647, 0.2346, 0.9895, 0.9297, 0.5403, 0.536, 0.8497, 0.5559, 0.6459, 0.5229, 0.6888, 0.7134, 0.9695, 0.8254, 0.6805, 0.9512, 0.6153, 0.7268, 0.9742, 0.8382, 0.9565, 0.7721, 0.7868, 0.4293, 0.9231, 0.6148, 0.5481], \"xaxis\": \"x\", \"y\": [-0.30376364926858934, -0.000328210148604402, -0.23232766825336748, -0.1771656663831539, -0.3091171050115694, -0.33353952211382837, -0.4017273973902808, -0.22161425897207543, -0.2889963702701128, -0.27240822419165855, -0.26435591542884845, -0.2707374166383192, -0.36024737286945424, -0.3897474588399132, -0.29561562630641275, -0.4622461534340833, -0.24716096230297702, -0.3929061202662527, -0.24386798466438744, -0.22436085563988017, -0.19085145577443086, -0.14290468105969778, -0.2713093909767745, -0.368387222143486, -0.3912483384448576, -0.25821613994061887, -0.22231074092028846, -0.32201207650727104, -0.06756396286677946, -0.360097811033352, -0.01695905039022705, -0.2329223285083344, -0.04301462370657505, -0.16403080492680855, -0.17748811017869137, -0.25668898071484925, -0.2958112537664319, -0.2526408700167708, -0.11000055314372192, -0.4133114419608701, -0.1918040482412694, -0.2429945462483982, -0.3930315054710596, -0.43589409519684497, -0.2854443194732441, -0.19671899718355257, -0.4513948124080974, -0.38004745883991314, -0.1336479454391987, -0.07669809593235566, -0.16262526818420742, -0.24838678610127965, -0.4571262309443999, -0.23752288096893193, -0.28172550607774527, -0.4044143185268318, -0.2562665631517157, -0.45779794658067224, -0.37334609495932125, -0.24544261206768692, -0.2367715977313576, -0.41321986120292453, -0.23739738444694317, -0.1661448553874867, -0.17027093795595893, -0.4398186367490909, -0.39787888071885813, -0.09498734981933477, -0.25976110816516784, -0.17853517692141607, -0.3673043677334343, -0.37996593712277477, -0.32032524574605864, -0.4537903805603541, -0.19292202619501755, -0.03204082969973232, -0.12687359606253135, -0.45725052358846674, -0.3197236709633742, -0.200154474448051, -0.2913126150104574, -0.4122207732228861, -0.37151987610470855, -0.36539212743984256, -0.27057990450410446, -0.06319375181383935, -0.2590912915585606, -0.3684915733484568, -0.10675266791271154, -0.4355529089704411, -0.29045048945641655, -0.06029214041724329, -0.22493358907277206, -0.07881092924585609, -0.3086112139244422, -0.26150951900110064, -0.33437260864499374, -0.149675312056593, -0.4354943852742885, -0.38371819882428204], \"yaxis\": \"y\"}, {\"hovertemplate\": \"Type of approx=Counting method<br>Real fraction=%{x}<br>Delta with real=%{y}<extra></extra>\", \"legendgroup\": \"Counting method\", \"marker\": {\"color\": \"#00cc96\", \"symbol\": \"circle\"}, \"mode\": \"markers\", \"name\": \"Counting method\", \"orientation\": \"v\", \"showlegend\": true, \"type\": \"scatter\", \"x\": [0.5012, 0.9995, 0.2714, 0.8936, 0.423, 0.7301, 0.6447, 0.8658, 0.469, 0.8295, 0.7425, 0.4187, 0.7132, 0.5947, 0.7134, 0.5445, 0.8286, 0.5318, 0.3885, 0.8068, 0.8537, 0.9269, 0.6592, 0.6781, 0.6254, 0.2757, 0.8169, 0.7109, 0.9731, 0.4877, 0.9942, 0.815, 0.9824, 0.9153, 0.8573, 0.8305, 0.6679, 0.7999, 0.1311, 0.6476, 0.231, 0.4035, 0.6509, 0.5725, 0.4563, 0.865, 0.532, 0.585, 0.1723, 0.9692, 0.8916, 0.333, 0.5398, 0.7735, 0.6519, 0.4799, 0.8497, 0.4712, 0.4802, 0.3119, 0.3503, 0.5714, 0.3645, 0.8978, 0.8754, 0.4791, 0.5503, 0.9572, 0.7442, 0.854, 0.5451, 0.6792, 0.6272, 0.5647, 0.2346, 0.9895, 0.9297, 0.5403, 0.536, 0.8497, 0.5559, 0.6459, 0.5229, 0.6888, 0.7134, 0.9695, 0.8254, 0.6805, 0.9512, 0.6153, 0.7268, 0.9742, 0.8382, 0.9565, 0.7721, 0.7868, 0.4293, 0.9231, 0.6148, 0.5481], \"xaxis\": \"x\", \"y\": [0.0020000000000000018, 0.0004999999999999449, 0.007400000000000018, 0.0037000000000000366, 0.01369999999999999, 0.008700000000000041, 0.009599999999999942, 0.006099999999999994, 0.009200000000000041, 0.005599999999999938, 0.008599999999999941, 0.009799999999999975, 0.007900000000000018, 0.0049000000000000155, 0.01079999999999992, 0.009199999999999986, 0.0017000000000000348, 0.011699999999999933, 0.013399999999999967, 0.008099999999999996, 0.0023999999999999577, 0.0037000000000000366, 0.011299999999999977, 0.010499999999999954, 0.0047000000000000375, 0.010099999999999998, 0.0037000000000000366, 0.00880000000000003, 0.0028000000000000247, 0.004599999999999993, 0.0011999999999999789, 0.00550000000000006, 0.0028999999999999027, 0.0010000000000000009, 0.006900000000000017, 0.007499999999999951, 0.0017999999999999128, 0.0029999999999998916, 0.0039000000000000146, 0.005900000000000016, 0.001799999999999996, 0.011099999999999999, 0.007499999999999951, 0.014499999999999957, 0.012200000000000044, 0.0042999999999999705, 0.009399999999999964, 0.014600000000000057, 0.016399999999999998, 0.0024000000000000687, 0.0027000000000000357, 0.0020000000000000018, 0.01650000000000007, 0.0026000000000000467, 0.006000000000000005, 0.009199999999999986, 0.0028000000000000247, 0.004699999999999982, 0.00269999999999998, 0.01469999999999999, 0.0024000000000000132, 0.014000000000000012, 0.007599999999999996, 0.0012999999999999678, 0.00550000000000006, 0.006799999999999973, 0.005700000000000038, 0.0034999999999999476, 0.0014000000000000679, 0.005400000000000071, 0.0040999999999999925, 0.009000000000000008, 0.011600000000000055, 0.005700000000000038, 0.013600000000000001, 0.0008999999999999009, 0.005600000000000049, 0.018399999999999972, 0.0050000000000000044, 0.0042999999999999705, 0.011800000000000033, 0.0040000000000000036, 0.0005999999999999339, 0.009700000000000042, 0.0006999999999999229, 0.0009000000000000119, 0.0026999999999999247, 0.0020000000000000018, 0.0018999999999999018, 0.0039000000000000146, 0.005499999999999949, 0.0010999999999999899, 0.0009000000000000119, 0.0037000000000000366, 0.0041999999999999815, 0.0014999999999999458, 0.010199999999999987, 0.0042999999999999705, 0.006399999999999961, 0.015000000000000013], \"yaxis\": \"y\"}, {\"hovertemplate\": \"Type of approx=Real fraction<br>Real fraction=%{x}<br>Delta with real=%{y}<extra></extra>\", \"legendgroup\": \"Real fraction\", \"marker\": {\"color\": \"#ab63fa\", \"symbol\": \"circle\"}, \"mode\": \"markers\", \"name\": \"Real fraction\", \"orientation\": \"v\", \"showlegend\": true, \"type\": \"scatter\", \"x\": [0.5012, 0.9995, 0.2714, 0.8936, 0.423, 0.7301, 0.6447, 0.8658, 0.469, 0.8295, 0.7425, 0.4187, 0.7132, 0.5947, 0.7134, 0.5445, 0.8286, 0.5318, 0.3885, 0.8068, 0.8537, 0.9269, 0.6592, 0.6781, 0.6254, 0.2757, 0.8169, 0.7109, 0.9731, 0.4877, 0.9942, 0.815, 0.9824, 0.9153, 0.8573, 0.8305, 0.6679, 0.7999, 0.1311, 0.6476, 0.231, 0.4035, 0.6509, 0.5725, 0.4563, 0.865, 0.532, 0.585, 0.1723, 0.9692, 0.8916, 0.333, 0.5398, 0.7735, 0.6519, 0.4799, 0.8497, 0.4712, 0.4802, 0.3119, 0.3503, 0.5714, 0.3645, 0.8978, 0.8754, 0.4791, 0.5503, 0.9572, 0.7442, 0.854, 0.5451, 0.6792, 0.6272, 0.5647, 0.2346, 0.9895, 0.9297, 0.5403, 0.536, 0.8497, 0.5559, 0.6459, 0.5229, 0.6888, 0.7134, 0.9695, 0.8254, 0.6805, 0.9512, 0.6153, 0.7268, 0.9742, 0.8382, 0.9565, 0.7721, 0.7868, 0.4293, 0.9231, 0.6148, 0.5481], \"xaxis\": \"x\", \"y\": [0.0, 0.0, 0.0, 0.0, 0.0, 0.0, 0.0, 0.0, 0.0, 0.0, 0.0, 0.0, 0.0, 0.0, 0.0, 0.0, 0.0, 0.0, 0.0, 0.0, 0.0, 0.0, 0.0, 0.0, 0.0, 0.0, 0.0, 0.0, 0.0, 0.0, 0.0, 0.0, 0.0, 0.0, 0.0, 0.0, 0.0, 0.0, 0.0, 0.0, 0.0, 0.0, 0.0, 0.0, 0.0, 0.0, 0.0, 0.0, 0.0, 0.0, 0.0, 0.0, 0.0, 0.0, 0.0, 0.0, 0.0, 0.0, 0.0, 0.0, 0.0, 0.0, 0.0, 0.0, 0.0, 0.0, 0.0, 0.0, 0.0, 0.0, 0.0, 0.0, 0.0, 0.0, 0.0, 0.0, 0.0, 0.0, 0.0, 0.0, 0.0, 0.0, 0.0, 0.0, 0.0, 0.0, 0.0, 0.0, 0.0, 0.0, 0.0, 0.0, 0.0, 0.0, 0.0, 0.0, 0.0, 0.0, 0.0, 0.0], \"yaxis\": \"y\"}],                        {\"legend\": {\"title\": {\"text\": \"Type of approx\"}, \"tracegroupgap\": 0}, \"template\": {\"data\": {\"bar\": [{\"error_x\": {\"color\": \"#2a3f5f\"}, \"error_y\": {\"color\": \"#2a3f5f\"}, \"marker\": {\"line\": {\"color\": \"#E5ECF6\", \"width\": 0.5}}, \"type\": \"bar\"}], \"barpolar\": [{\"marker\": {\"line\": {\"color\": \"#E5ECF6\", \"width\": 0.5}}, \"type\": \"barpolar\"}], \"carpet\": [{\"aaxis\": {\"endlinecolor\": \"#2a3f5f\", \"gridcolor\": \"white\", \"linecolor\": \"white\", \"minorgridcolor\": \"white\", \"startlinecolor\": \"#2a3f5f\"}, \"baxis\": {\"endlinecolor\": \"#2a3f5f\", \"gridcolor\": \"white\", \"linecolor\": \"white\", \"minorgridcolor\": \"white\", \"startlinecolor\": \"#2a3f5f\"}, \"type\": \"carpet\"}], \"choropleth\": [{\"colorbar\": {\"outlinewidth\": 0, \"ticks\": \"\"}, \"type\": \"choropleth\"}], \"contour\": [{\"colorbar\": {\"outlinewidth\": 0, \"ticks\": \"\"}, \"colorscale\": [[0.0, \"#0d0887\"], [0.1111111111111111, \"#46039f\"], [0.2222222222222222, \"#7201a8\"], [0.3333333333333333, \"#9c179e\"], [0.4444444444444444, \"#bd3786\"], [0.5555555555555556, \"#d8576b\"], [0.6666666666666666, \"#ed7953\"], [0.7777777777777778, \"#fb9f3a\"], [0.8888888888888888, \"#fdca26\"], [1.0, \"#f0f921\"]], \"type\": \"contour\"}], \"contourcarpet\": [{\"colorbar\": {\"outlinewidth\": 0, \"ticks\": \"\"}, \"type\": \"contourcarpet\"}], \"heatmap\": [{\"colorbar\": {\"outlinewidth\": 0, \"ticks\": \"\"}, \"colorscale\": [[0.0, \"#0d0887\"], [0.1111111111111111, \"#46039f\"], [0.2222222222222222, \"#7201a8\"], [0.3333333333333333, \"#9c179e\"], [0.4444444444444444, \"#bd3786\"], [0.5555555555555556, \"#d8576b\"], [0.6666666666666666, \"#ed7953\"], [0.7777777777777778, \"#fb9f3a\"], [0.8888888888888888, \"#fdca26\"], [1.0, \"#f0f921\"]], \"type\": \"heatmap\"}], \"heatmapgl\": [{\"colorbar\": {\"outlinewidth\": 0, \"ticks\": \"\"}, \"colorscale\": [[0.0, \"#0d0887\"], [0.1111111111111111, \"#46039f\"], [0.2222222222222222, \"#7201a8\"], [0.3333333333333333, \"#9c179e\"], [0.4444444444444444, \"#bd3786\"], [0.5555555555555556, \"#d8576b\"], [0.6666666666666666, \"#ed7953\"], [0.7777777777777778, \"#fb9f3a\"], [0.8888888888888888, \"#fdca26\"], [1.0, \"#f0f921\"]], \"type\": \"heatmapgl\"}], \"histogram\": [{\"marker\": {\"colorbar\": {\"outlinewidth\": 0, \"ticks\": \"\"}}, \"type\": \"histogram\"}], \"histogram2d\": [{\"colorbar\": {\"outlinewidth\": 0, \"ticks\": \"\"}, \"colorscale\": [[0.0, \"#0d0887\"], [0.1111111111111111, \"#46039f\"], [0.2222222222222222, \"#7201a8\"], [0.3333333333333333, \"#9c179e\"], [0.4444444444444444, \"#bd3786\"], [0.5555555555555556, \"#d8576b\"], [0.6666666666666666, \"#ed7953\"], [0.7777777777777778, \"#fb9f3a\"], [0.8888888888888888, \"#fdca26\"], [1.0, \"#f0f921\"]], \"type\": \"histogram2d\"}], \"histogram2dcontour\": [{\"colorbar\": {\"outlinewidth\": 0, \"ticks\": \"\"}, \"colorscale\": [[0.0, \"#0d0887\"], [0.1111111111111111, \"#46039f\"], [0.2222222222222222, \"#7201a8\"], [0.3333333333333333, \"#9c179e\"], [0.4444444444444444, \"#bd3786\"], [0.5555555555555556, \"#d8576b\"], [0.6666666666666666, \"#ed7953\"], [0.7777777777777778, \"#fb9f3a\"], [0.8888888888888888, \"#fdca26\"], [1.0, \"#f0f921\"]], \"type\": \"histogram2dcontour\"}], \"mesh3d\": [{\"colorbar\": {\"outlinewidth\": 0, \"ticks\": \"\"}, \"type\": \"mesh3d\"}], \"parcoords\": [{\"line\": {\"colorbar\": {\"outlinewidth\": 0, \"ticks\": \"\"}}, \"type\": \"parcoords\"}], \"pie\": [{\"automargin\": true, \"type\": \"pie\"}], \"scatter\": [{\"marker\": {\"colorbar\": {\"outlinewidth\": 0, \"ticks\": \"\"}}, \"type\": \"scatter\"}], \"scatter3d\": [{\"line\": {\"colorbar\": {\"outlinewidth\": 0, \"ticks\": \"\"}}, \"marker\": {\"colorbar\": {\"outlinewidth\": 0, \"ticks\": \"\"}}, \"type\": \"scatter3d\"}], \"scattercarpet\": [{\"marker\": {\"colorbar\": {\"outlinewidth\": 0, \"ticks\": \"\"}}, \"type\": \"scattercarpet\"}], \"scattergeo\": [{\"marker\": {\"colorbar\": {\"outlinewidth\": 0, \"ticks\": \"\"}}, \"type\": \"scattergeo\"}], \"scattergl\": [{\"marker\": {\"colorbar\": {\"outlinewidth\": 0, \"ticks\": \"\"}}, \"type\": \"scattergl\"}], \"scattermapbox\": [{\"marker\": {\"colorbar\": {\"outlinewidth\": 0, \"ticks\": \"\"}}, \"type\": \"scattermapbox\"}], \"scatterpolar\": [{\"marker\": {\"colorbar\": {\"outlinewidth\": 0, \"ticks\": \"\"}}, \"type\": \"scatterpolar\"}], \"scatterpolargl\": [{\"marker\": {\"colorbar\": {\"outlinewidth\": 0, \"ticks\": \"\"}}, \"type\": \"scatterpolargl\"}], \"scatterternary\": [{\"marker\": {\"colorbar\": {\"outlinewidth\": 0, \"ticks\": \"\"}}, \"type\": \"scatterternary\"}], \"surface\": [{\"colorbar\": {\"outlinewidth\": 0, \"ticks\": \"\"}, \"colorscale\": [[0.0, \"#0d0887\"], [0.1111111111111111, \"#46039f\"], [0.2222222222222222, \"#7201a8\"], [0.3333333333333333, \"#9c179e\"], [0.4444444444444444, \"#bd3786\"], [0.5555555555555556, \"#d8576b\"], [0.6666666666666666, \"#ed7953\"], [0.7777777777777778, \"#fb9f3a\"], [0.8888888888888888, \"#fdca26\"], [1.0, \"#f0f921\"]], \"type\": \"surface\"}], \"table\": [{\"cells\": {\"fill\": {\"color\": \"#EBF0F8\"}, \"line\": {\"color\": \"white\"}}, \"header\": {\"fill\": {\"color\": \"#C8D4E3\"}, \"line\": {\"color\": \"white\"}}, \"type\": \"table\"}]}, \"layout\": {\"annotationdefaults\": {\"arrowcolor\": \"#2a3f5f\", \"arrowhead\": 0, \"arrowwidth\": 1}, \"autotypenumbers\": \"strict\", \"coloraxis\": {\"colorbar\": {\"outlinewidth\": 0, \"ticks\": \"\"}}, \"colorscale\": {\"diverging\": [[0, \"#8e0152\"], [0.1, \"#c51b7d\"], [0.2, \"#de77ae\"], [0.3, \"#f1b6da\"], [0.4, \"#fde0ef\"], [0.5, \"#f7f7f7\"], [0.6, \"#e6f5d0\"], [0.7, \"#b8e186\"], [0.8, \"#7fbc41\"], [0.9, \"#4d9221\"], [1, \"#276419\"]], \"sequential\": [[0.0, \"#0d0887\"], [0.1111111111111111, \"#46039f\"], [0.2222222222222222, \"#7201a8\"], [0.3333333333333333, \"#9c179e\"], [0.4444444444444444, \"#bd3786\"], [0.5555555555555556, \"#d8576b\"], [0.6666666666666666, \"#ed7953\"], [0.7777777777777778, \"#fb9f3a\"], [0.8888888888888888, \"#fdca26\"], [1.0, \"#f0f921\"]], \"sequentialminus\": [[0.0, \"#0d0887\"], [0.1111111111111111, \"#46039f\"], [0.2222222222222222, \"#7201a8\"], [0.3333333333333333, \"#9c179e\"], [0.4444444444444444, \"#bd3786\"], [0.5555555555555556, \"#d8576b\"], [0.6666666666666666, \"#ed7953\"], [0.7777777777777778, \"#fb9f3a\"], [0.8888888888888888, \"#fdca26\"], [1.0, \"#f0f921\"]]}, \"colorway\": [\"#636efa\", \"#EF553B\", \"#00cc96\", \"#ab63fa\", \"#FFA15A\", \"#19d3f3\", \"#FF6692\", \"#B6E880\", \"#FF97FF\", \"#FECB52\"], \"font\": {\"color\": \"#2a3f5f\"}, \"geo\": {\"bgcolor\": \"white\", \"lakecolor\": \"white\", \"landcolor\": \"#E5ECF6\", \"showlakes\": true, \"showland\": true, \"subunitcolor\": \"white\"}, \"hoverlabel\": {\"align\": \"left\"}, \"hovermode\": \"closest\", \"mapbox\": {\"style\": \"light\"}, \"paper_bgcolor\": \"white\", \"plot_bgcolor\": \"#E5ECF6\", \"polar\": {\"angularaxis\": {\"gridcolor\": \"white\", \"linecolor\": \"white\", \"ticks\": \"\"}, \"bgcolor\": \"#E5ECF6\", \"radialaxis\": {\"gridcolor\": \"white\", \"linecolor\": \"white\", \"ticks\": \"\"}}, \"scene\": {\"xaxis\": {\"backgroundcolor\": \"#E5ECF6\", \"gridcolor\": \"white\", \"gridwidth\": 2, \"linecolor\": \"white\", \"showbackground\": true, \"ticks\": \"\", \"zerolinecolor\": \"white\"}, \"yaxis\": {\"backgroundcolor\": \"#E5ECF6\", \"gridcolor\": \"white\", \"gridwidth\": 2, \"linecolor\": \"white\", \"showbackground\": true, \"ticks\": \"\", \"zerolinecolor\": \"white\"}, \"zaxis\": {\"backgroundcolor\": \"#E5ECF6\", \"gridcolor\": \"white\", \"gridwidth\": 2, \"linecolor\": \"white\", \"showbackground\": true, \"ticks\": \"\", \"zerolinecolor\": \"white\"}}, \"shapedefaults\": {\"line\": {\"color\": \"#2a3f5f\"}}, \"ternary\": {\"aaxis\": {\"gridcolor\": \"white\", \"linecolor\": \"white\", \"ticks\": \"\"}, \"baxis\": {\"gridcolor\": \"white\", \"linecolor\": \"white\", \"ticks\": \"\"}, \"bgcolor\": \"#E5ECF6\", \"caxis\": {\"gridcolor\": \"white\", \"linecolor\": \"white\", \"ticks\": \"\"}}, \"title\": {\"x\": 0.05}, \"xaxis\": {\"automargin\": true, \"gridcolor\": \"white\", \"linecolor\": \"white\", \"ticks\": \"\", \"title\": {\"standoff\": 15}, \"zerolinecolor\": \"white\", \"zerolinewidth\": 2}, \"yaxis\": {\"automargin\": true, \"gridcolor\": \"white\", \"linecolor\": \"white\", \"ticks\": \"\", \"title\": {\"standoff\": 15}, \"zerolinecolor\": \"white\", \"zerolinewidth\": 2}}}, \"title\": {\"text\": \"Difference between the estimated and the real selectivity as function of the real fraction\"}, \"xaxis\": {\"anchor\": \"y\", \"domain\": [0.0, 1.0], \"title\": {\"text\": \"Real fraction\"}}, \"yaxis\": {\"anchor\": \"x\", \"domain\": [0.0, 1.0], \"title\": {\"text\": \"Delta with real\"}}},                        {\"responsive\": true}                    ).then(function(){\n",
       "                            \n",
       "var gd = document.getElementById('f63e65f6-ce34-4136-ba5a-d27a96919f56');\n",
       "var x = new MutationObserver(function (mutations, observer) {{\n",
       "        var display = window.getComputedStyle(gd).display;\n",
       "        if (!display || display === 'none') {{\n",
       "            console.log([gd, 'removed!']);\n",
       "            Plotly.purge(gd);\n",
       "            observer.disconnect();\n",
       "        }}\n",
       "}});\n",
       "\n",
       "// Listen for the removal of the full notebook cells\n",
       "var notebookContainer = gd.closest('#notebook-container');\n",
       "if (notebookContainer) {{\n",
       "    x.observe(notebookContainer, {childList: true});\n",
       "}}\n",
       "\n",
       "// Listen for the clearing of the current output cell\n",
       "var outputEl = gd.closest('.output');\n",
       "if (outputEl) {{\n",
       "    x.observe(outputEl, {childList: true});\n",
       "}}\n",
       "\n",
       "                        })                };                });            </script>        </div>"
      ]
     },
     "metadata": {},
     "output_type": "display_data"
    }
   ],
   "source": [
    "fig = px.scatter(datafr, y=cols[3], x=cols[1], color=cols[4],\n",
    "                 title=\"Difference between the estimated and the real selectivity as function of the real fraction\")\n",
    "\n",
    "fig.show()"
   ]
  },
  {
   "cell_type": "code",
   "execution_count": null,
   "metadata": {},
   "outputs": [],
   "source": []
  },
  {
   "cell_type": "code",
   "execution_count": null,
   "metadata": {},
   "outputs": [],
   "source": []
  },
  {
   "cell_type": "code",
   "execution_count": null,
   "metadata": {},
   "outputs": [],
   "source": []
  }
 ],
 "metadata": {
  "kernelspec": {
   "display_name": "overlapPredicate",
   "language": "python",
   "name": "overlappredicate"
  },
  "language_info": {
   "codemirror_mode": {
    "name": "ipython",
    "version": 3
   },
   "file_extension": ".py",
   "mimetype": "text/x-python",
   "name": "python",
   "nbconvert_exporter": "python",
   "pygments_lexer": "ipython3",
   "version": "3.9.7"
  }
 },
 "nbformat": 4,
 "nbformat_minor": 1
}
